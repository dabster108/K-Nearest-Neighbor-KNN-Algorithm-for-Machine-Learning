{
  "nbformat": 4,
  "nbformat_minor": 0,
  "metadata": {
    "colab": {
      "provenance": [],
      "authorship_tag": "ABX9TyPwRQLRvcr3c4WqMZbPenrf",
      "include_colab_link": true
    },
    "kernelspec": {
      "name": "python3",
      "display_name": "Python 3"
    },
    "language_info": {
      "name": "python"
    }
  },
  "cells": [
    {
      "cell_type": "markdown",
      "metadata": {
        "id": "view-in-github",
        "colab_type": "text"
      },
      "source": [
        "<a href=\"https://colab.research.google.com/github/dabster108/K-Nearest-Neighbor-KNN-Algorithm-for-Machine-Learning/blob/main/Knn.ipynb\" target=\"_parent\"><img src=\"https://colab.research.google.com/assets/colab-badge.svg\" alt=\"Open In Colab\"/></a>"
      ]
    },
    {
      "cell_type": "code",
      "execution_count": null,
      "metadata": {
        "id": "rvkG_sp8PPin"
      },
      "outputs": [],
      "source": []
    },
    {
      "cell_type": "markdown",
      "source": [
        "knn - k nearest neighbour supervised Learning\n",
        "Regressor vs Classifier\n",
        "regressor - past data  \n",
        "classifier - previously there will be category and it determines in which categeory does the data belongs\n",
        "\n",
        "\n",
        "non -parametric - doesnot make assumption\n",
        "parametric - interpretable\n",
        "euclidean distance\n",
        "knn - non parametric\n",
        "Supervised Learning"
      ],
      "metadata": {
        "id": "4h5eOzwHRpHv"
      }
    },
    {
      "cell_type": "code",
      "source": [],
      "metadata": {
        "id": "zfA_eUGCRyI9"
      },
      "execution_count": null,
      "outputs": []
    },
    {
      "cell_type": "markdown",
      "source": [
        "Independednt variable and Dependent Variable\n"
      ],
      "metadata": {
        "id": "LiWidvLieQIh"
      }
    },
    {
      "cell_type": "code",
      "source": [],
      "metadata": {
        "id": "N6pvHYRheURE"
      },
      "execution_count": null,
      "outputs": []
    }
  ]
}